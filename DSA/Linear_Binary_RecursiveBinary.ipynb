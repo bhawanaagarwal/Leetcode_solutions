{
 "cells": [
  {
   "cell_type": "code",
   "execution_count": 1,
   "id": "3315a57d-d24e-406e-9809-3c14875058ac",
   "metadata": {},
   "outputs": [],
   "source": [
    "def linear_search(list, target):\n",
    "    '''\n",
    "    Returns the index position of the target if found, else returns None\n",
    "    '''\n",
    "    for i in range(len(list)):\n",
    "        if list[i] == target:\n",
    "            return i\n",
    "    return None"
   ]
  },
  {
   "cell_type": "code",
   "execution_count": 2,
   "id": "39df4f22-8550-431f-8679-a0def74d8bc8",
   "metadata": {},
   "outputs": [],
   "source": [
    "def binary_search(list, target):\n",
    "    '''\n",
    "    Returns index position of the element that matches the target else returns None\n",
    "    '''\n",
    "    \n",
    "    list = list.sort() #only if the list is not sorted\n",
    "    first = 0\n",
    "    last = len(list) - 1\n",
    "    \n",
    "    while first <= last:\n",
    "        midpoint = (first + last)//2\n",
    "        if list[midpoint] == target:\n",
    "            return midpoint\n",
    "        elif list[midpoint] > target:\n",
    "            last = midpoint - 1\n",
    "        elif list[midpoint] < target:\n",
    "            first = midpoint + 1\n",
    "            \n",
    "    return None"
   ]
  },
  {
   "cell_type": "code",
   "execution_count": null,
   "id": "2a55b908-afc2-4a73-ba95-fef5722d39f0",
   "metadata": {},
   "outputs": [],
   "source": [
    "def recur_binary_search(list, target):\n",
    "    if not list:\n",
    "        return None\n",
    "    else:\n",
    "        midpoint = len(list)//2\n",
    "        if list[midpoint] == target:\n",
    "            return True\n",
    "        else:\n",
    "            if list[midpoint] < target:\n",
    "                return recur_binary_search(list[midpoint+1:], target)\n",
    "            else:\n",
    "                return recur_binary_search(list[: midpoint -1], target)\n",
    "        "
   ]
  }
 ],
 "metadata": {
  "kernelspec": {
   "display_name": "Python 3 (ipykernel)",
   "language": "python",
   "name": "python3"
  },
  "language_info": {
   "codemirror_mode": {
    "name": "ipython",
    "version": 3
   },
   "file_extension": ".py",
   "mimetype": "text/x-python",
   "name": "python",
   "nbconvert_exporter": "python",
   "pygments_lexer": "ipython3",
   "version": "3.11.7"
  }
 },
 "nbformat": 4,
 "nbformat_minor": 5
}
