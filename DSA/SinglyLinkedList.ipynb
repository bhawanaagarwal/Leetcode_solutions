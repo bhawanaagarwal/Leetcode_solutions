{
 "cells": [
  {
   "cell_type": "code",
   "execution_count": 1,
   "id": "18dba7d4-a1a0-4163-8986-49229e203a06",
   "metadata": {},
   "outputs": [],
   "source": [
    "class Node:\n",
    "    \"\"\"\n",
    "    Stores single node in a linked list\n",
    "\n",
    "    Attributes:\n",
    "        data: data stored in the node\n",
    "        next_node: reference to next node\n",
    "    \"\"\"\n",
    "    def __init__(self, data, next_node = None):\n",
    "        self.data = data\n",
    "        self.next_node = next_node\n",
    "\n",
    "    def __repr__(self):\n",
    "        return \"<Node : %s>\" % self.data"
   ]
  },
  {
   "cell_type": "code",
   "execution_count": 39,
   "id": "d8161696-185d-4918-b56c-3298205ccc5e",
   "metadata": {},
   "outputs": [],
   "source": [
    "class SinglyLinkedList:\n",
    "\n",
    "    def __init__(self):\n",
    "        self.head = None\n",
    "        self.__count = 0\n",
    "\n",
    "    def is_empty(self):\n",
    "        return self.head == None\n",
    "\n",
    "    def size(self):\n",
    "        current = self.head\n",
    "        while current:\n",
    "            self.__count += 1\n",
    "            current = current.next_node\n",
    "        return self.__count\n",
    "\n",
    "    def add(self, data):\n",
    "        new_node = Node(data)\n",
    "        new_node.next_node = self.head\n",
    "        self.head = new_node\n",
    "\n",
    "    def search(self, key):\n",
    "        current = self.head\n",
    "        \n",
    "        while current:\n",
    "            if current.data == key:\n",
    "                return current\n",
    "            else:\n",
    "                current = current.next_node\n",
    "        return None\n",
    "            \n",
    "    def __repr__(self):\n",
    "        current = self.head\n",
    "        nodes = []\n",
    "        while current:\n",
    "            if current == self.head:\n",
    "                nodes.append(\"[Head: {}]\".format(current.data))\n",
    "            elif current.next_node == None:\n",
    "                nodes.append(f\"[Tail: {current.data}]\")\n",
    "            else:\n",
    "                nodes.append(f\"[{current.data}]\")\n",
    "            current = current.next_node\n",
    "        return '->'.join(nodes)\n",
    "        "
   ]
  },
  {
   "cell_type": "code",
   "execution_count": 40,
   "id": "30ebeb6b-d5fd-45c3-9280-bb8b7454f15c",
   "metadata": {},
   "outputs": [],
   "source": [
    "l1 = SinglyLinkedList()"
   ]
  },
  {
   "cell_type": "code",
   "execution_count": 41,
   "id": "fc7e9457-e94f-4ccb-8ff1-e3581d9e7f1e",
   "metadata": {},
   "outputs": [],
   "source": [
    "l1.add(20)"
   ]
  },
  {
   "cell_type": "code",
   "execution_count": 42,
   "id": "a19da7a3-9abf-4b71-b682-56d2d1fcd640",
   "metadata": {},
   "outputs": [
    {
     "data": {
      "text/plain": [
       "[Head: 20]"
      ]
     },
     "execution_count": 42,
     "metadata": {},
     "output_type": "execute_result"
    }
   ],
   "source": [
    "l1"
   ]
  },
  {
   "cell_type": "code",
   "execution_count": 43,
   "id": "491e80f2-0178-4a51-9e07-27a4d0098a1b",
   "metadata": {},
   "outputs": [],
   "source": [
    "l1.add(10)"
   ]
  },
  {
   "cell_type": "code",
   "execution_count": 44,
   "id": "cb64ea38-6c2e-470d-9ff4-16e61d78b231",
   "metadata": {},
   "outputs": [
    {
     "data": {
      "text/plain": [
       "[Head: 10]->[Tail: 20]"
      ]
     },
     "execution_count": 44,
     "metadata": {},
     "output_type": "execute_result"
    }
   ],
   "source": [
    "l1"
   ]
  },
  {
   "cell_type": "code",
   "execution_count": 45,
   "id": "f71cd58b-270a-414a-897c-afd9c011873e",
   "metadata": {},
   "outputs": [],
   "source": [
    "l1.add(24)"
   ]
  },
  {
   "cell_type": "code",
   "execution_count": 46,
   "id": "96a4f45a-be42-42aa-96fc-ce7158897c20",
   "metadata": {},
   "outputs": [
    {
     "data": {
      "text/plain": [
       "[Head: 24]->[10]->[Tail: 20]"
      ]
     },
     "execution_count": 46,
     "metadata": {},
     "output_type": "execute_result"
    }
   ],
   "source": [
    "l1"
   ]
  },
  {
   "cell_type": "code",
   "execution_count": 47,
   "id": "a0b617ca-217d-486a-b081-6344c3a3b2fd",
   "metadata": {},
   "outputs": [],
   "source": [
    "l1.add(13)"
   ]
  },
  {
   "cell_type": "code",
   "execution_count": 48,
   "id": "98a02eef-191d-43cc-b89e-30531eb312fa",
   "metadata": {},
   "outputs": [
    {
     "data": {
      "text/plain": [
       "[Head: 13]->[24]->[10]->[Tail: 20]"
      ]
     },
     "execution_count": 48,
     "metadata": {},
     "output_type": "execute_result"
    }
   ],
   "source": [
    "l1"
   ]
  },
  {
   "cell_type": "code",
   "execution_count": 52,
   "id": "a3eb0c5b-ad72-4160-b228-7f414ef358ef",
   "metadata": {},
   "outputs": [],
   "source": [
    "n = l1.search(13)"
   ]
  },
  {
   "cell_type": "code",
   "execution_count": 53,
   "id": "14e3d07a-4885-4fda-9e2b-6c502a202315",
   "metadata": {},
   "outputs": [
    {
     "data": {
      "text/plain": [
       "[Head: 13]->[24]->[10]->[Tail: 20]"
      ]
     },
     "execution_count": 53,
     "metadata": {},
     "output_type": "execute_result"
    }
   ],
   "source": [
    "l1"
   ]
  },
  {
   "cell_type": "code",
   "execution_count": 54,
   "id": "2bb3a032-634c-4404-8331-735ad765ab45",
   "metadata": {},
   "outputs": [
    {
     "data": {
      "text/plain": [
       "<Node : 13>"
      ]
     },
     "execution_count": 54,
     "metadata": {},
     "output_type": "execute_result"
    }
   ],
   "source": [
    "n"
   ]
  },
  {
   "cell_type": "code",
   "execution_count": null,
   "id": "4f85f5b8-39a5-407d-81e0-1169c4efbf7b",
   "metadata": {},
   "outputs": [],
   "source": []
  }
 ],
 "metadata": {
  "kernelspec": {
   "display_name": "Python 3 (ipykernel)",
   "language": "python",
   "name": "python3"
  },
  "language_info": {
   "codemirror_mode": {
    "name": "ipython",
    "version": 3
   },
   "file_extension": ".py",
   "mimetype": "text/x-python",
   "name": "python",
   "nbconvert_exporter": "python",
   "pygments_lexer": "ipython3",
   "version": "3.11.7"
  }
 },
 "nbformat": 4,
 "nbformat_minor": 5
}
