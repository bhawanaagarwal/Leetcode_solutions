{
 "cells": [
  {
   "cell_type": "code",
   "execution_count": 1,
   "id": "18dba7d4-a1a0-4163-8986-49229e203a06",
   "metadata": {},
   "outputs": [],
   "source": [
    "class Node:\n",
    "    \"\"\"\n",
    "    Stores single node in a linked list\n",
    "\n",
    "    Attributes:\n",
    "        data: data stored in the node\n",
    "        next_node: reference to next node\n",
    "    \"\"\"\n",
    "    def __init__(self, data, next_node = None):\n",
    "        self.data = data\n",
    "        self.next_node = next_node\n",
    "\n",
    "    def __repr__(self):\n",
    "        return \"<Node : %s>\" % self.data"
   ]
  },
  {
   "cell_type": "code",
   "execution_count": 34,
   "id": "d8161696-185d-4918-b56c-3298205ccc5e",
   "metadata": {},
   "outputs": [],
   "source": [
    "class SinglyLinkedList:\n",
    "\n",
    "    def __init__(self):\n",
    "        self.head = None\n",
    "        self.__count = 0\n",
    "\n",
    "    def is_empty(self):\n",
    "        return self.head == None\n",
    "\n",
    "    def size(self):\n",
    "        current = self.head\n",
    "        while current:\n",
    "            self.__count += 1\n",
    "            current = current.next_node\n",
    "        return self.__count\n",
    "\n",
    "    def add(self, data):\n",
    "        new_node = Node(data)\n",
    "        new_node.next_node = self.head\n",
    "        self.head = new_node\n",
    "\n",
    "    def insert(self, data, position):\n",
    "        current = self.head\n",
    "        index = 0\n",
    "        if position == 0:\n",
    "            add(data)\n",
    "        else:\n",
    "            while index < position-1:\n",
    "                current = current.next_node\n",
    "                index += 1\n",
    "            new_node = Node(data)\n",
    "            new_node.next_node = current.next_node\n",
    "            current.next_node = new_node\n",
    "        \n",
    "\n",
    "    def search(self, key):\n",
    "        current = self.head\n",
    "        \n",
    "        while current:\n",
    "            if current.data == key:\n",
    "                return True\n",
    "            else:\n",
    "                current = current.next_node\n",
    "        return None\n",
    "\n",
    "\n",
    "    def remove(self, key):\n",
    "        current = self.head\n",
    "        prev_node = None\n",
    "        flag = False\n",
    "        while current and not flag:\n",
    "\n",
    "            if current == self.head and current.data == key:\n",
    "                flag = True\n",
    "                self.head = current.next_node\n",
    "            elif current.data == key:\n",
    "                flag = True\n",
    "                prev_node.next_node = current.next_node\n",
    "                break\n",
    "            else:\n",
    "                prev_node = current\n",
    "                current = current.next_node\n",
    "                \n",
    "                \n",
    "        return current\n",
    "                \n",
    "\n",
    "            \n",
    "    def __repr__(self):\n",
    "        current = self.head\n",
    "        nodes = []\n",
    "        while current:\n",
    "            if current == self.head:\n",
    "                nodes.append(\"[Head: {}]\".format(current.data))\n",
    "            elif current.next_node == None:\n",
    "                nodes.append(f\"[Tail: {current.data}]\")\n",
    "            else:\n",
    "                nodes.append(f\"[{current.data}]\")\n",
    "            current = current.next_node\n",
    "        return '->'.join(nodes)\n",
    "        "
   ]
  },
  {
   "cell_type": "code",
   "execution_count": 35,
   "id": "4f85f5b8-39a5-407d-81e0-1169c4efbf7b",
   "metadata": {},
   "outputs": [],
   "source": [
    "l = SinglyLinkedList()"
   ]
  },
  {
   "cell_type": "code",
   "execution_count": 36,
   "id": "fa2a0270-e63e-451c-bc2a-5b4f45624b58",
   "metadata": {},
   "outputs": [],
   "source": [
    "l.add(10)"
   ]
  },
  {
   "cell_type": "code",
   "execution_count": 37,
   "id": "e80b64d4-f371-47ee-92b1-1e1c50acdebd",
   "metadata": {},
   "outputs": [],
   "source": [
    "l.add(20)"
   ]
  },
  {
   "cell_type": "code",
   "execution_count": 38,
   "id": "7357e5b1-f3b0-4914-8ae8-e0e5c739871d",
   "metadata": {},
   "outputs": [],
   "source": [
    "l.add(5)"
   ]
  },
  {
   "cell_type": "code",
   "execution_count": 39,
   "id": "30dc8fcd-be89-44f2-bf4d-bcf41df1d13a",
   "metadata": {},
   "outputs": [],
   "source": [
    "l.add(15)"
   ]
  },
  {
   "cell_type": "code",
   "execution_count": 40,
   "id": "a703ed0d-4803-4952-9ec2-69e78fede7bd",
   "metadata": {},
   "outputs": [
    {
     "data": {
      "text/plain": [
       "[Head: 15]->[5]->[20]->[Tail: 10]"
      ]
     },
     "execution_count": 40,
     "metadata": {},
     "output_type": "execute_result"
    }
   ],
   "source": [
    "l"
   ]
  },
  {
   "cell_type": "code",
   "execution_count": 41,
   "id": "2d6e3f45-b57d-47a2-8a4d-eeb344b7652d",
   "metadata": {},
   "outputs": [],
   "source": [
    "l.insert(12,3)"
   ]
  },
  {
   "cell_type": "code",
   "execution_count": 42,
   "id": "f78cab6b-bbc8-4d0c-85ce-b02a216272ce",
   "metadata": {},
   "outputs": [
    {
     "data": {
      "text/plain": [
       "[Head: 15]->[5]->[20]->[12]->[Tail: 10]"
      ]
     },
     "execution_count": 42,
     "metadata": {},
     "output_type": "execute_result"
    }
   ],
   "source": [
    "l"
   ]
  },
  {
   "cell_type": "code",
   "execution_count": 43,
   "id": "bc4997d4-439d-4ac7-a4ca-2db2746e21b2",
   "metadata": {},
   "outputs": [],
   "source": [
    "l.insert(11,2)"
   ]
  },
  {
   "cell_type": "code",
   "execution_count": 44,
   "id": "c0dc21f0-631c-4447-baf4-af1f7a18f71f",
   "metadata": {},
   "outputs": [
    {
     "data": {
      "text/plain": [
       "[Head: 15]->[5]->[11]->[20]->[12]->[Tail: 10]"
      ]
     },
     "execution_count": 44,
     "metadata": {},
     "output_type": "execute_result"
    }
   ],
   "source": [
    "l"
   ]
  },
  {
   "cell_type": "code",
   "execution_count": 45,
   "id": "b644a3ce-f58c-4911-9535-3ee1a48be4b7",
   "metadata": {},
   "outputs": [],
   "source": [
    "l.insert(11,2)"
   ]
  },
  {
   "cell_type": "code",
   "execution_count": 46,
   "id": "6262c45c-fac3-4672-a0e5-896604853d64",
   "metadata": {},
   "outputs": [
    {
     "data": {
      "text/plain": [
       "[Head: 15]->[5]->[11]->[11]->[20]->[12]->[Tail: 10]"
      ]
     },
     "execution_count": 46,
     "metadata": {},
     "output_type": "execute_result"
    }
   ],
   "source": [
    "l"
   ]
  },
  {
   "cell_type": "code",
   "execution_count": 47,
   "id": "d0be1535-daae-4c20-bb6d-ee45faab33a8",
   "metadata": {},
   "outputs": [],
   "source": [
    "l.insert(111,1)"
   ]
  },
  {
   "cell_type": "code",
   "execution_count": 48,
   "id": "8e9c9ad7-1287-420d-9728-8e659b089e6b",
   "metadata": {},
   "outputs": [
    {
     "data": {
      "text/plain": [
       "[Head: 15]->[111]->[5]->[11]->[11]->[20]->[12]->[Tail: 10]"
      ]
     },
     "execution_count": 48,
     "metadata": {},
     "output_type": "execute_result"
    }
   ],
   "source": [
    "l"
   ]
  },
  {
   "cell_type": "code",
   "execution_count": 53,
   "id": "ebe1afdb-aeb7-482a-9489-514e8fed855f",
   "metadata": {},
   "outputs": [
    {
     "name": "stdout",
     "output_type": "stream",
     "text": [
      " prev node: <Node : 12>\n",
      " curr node: <Node : 12>\n"
     ]
    },
    {
     "data": {
      "text/plain": [
       "<Node : 20>"
      ]
     },
     "execution_count": 53,
     "metadata": {},
     "output_type": "execute_result"
    }
   ],
   "source": [
    "l.remove(20)"
   ]
  },
  {
   "cell_type": "code",
   "execution_count": 54,
   "id": "9ac4bb5d-6a5b-47e7-9255-549fd9470daa",
   "metadata": {},
   "outputs": [
    {
     "data": {
      "text/plain": [
       "[Head: 15]->[5]->[11]->[12]->[Tail: 10]"
      ]
     },
     "execution_count": 54,
     "metadata": {},
     "output_type": "execute_result"
    }
   ],
   "source": [
    "l"
   ]
  },
  {
   "cell_type": "code",
   "execution_count": null,
   "id": "a2805481-8e7f-44ed-8136-982e4197d836",
   "metadata": {},
   "outputs": [],
   "source": []
  },
  {
   "cell_type": "code",
   "execution_count": null,
   "id": "9623d450-6a29-4401-86aa-c30738c05ebb",
   "metadata": {},
   "outputs": [],
   "source": []
  }
 ],
 "metadata": {
  "kernelspec": {
   "display_name": "Python 3 (ipykernel)",
   "language": "python",
   "name": "python3"
  },
  "language_info": {
   "codemirror_mode": {
    "name": "ipython",
    "version": 3
   },
   "file_extension": ".py",
   "mimetype": "text/x-python",
   "name": "python",
   "nbconvert_exporter": "python",
   "pygments_lexer": "ipython3",
   "version": "3.11.7"
  }
 },
 "nbformat": 4,
 "nbformat_minor": 5
}
